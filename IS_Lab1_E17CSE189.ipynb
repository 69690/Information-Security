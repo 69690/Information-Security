{
  "nbformat": 4,
  "nbformat_minor": 0,
  "metadata": {
    "colab": {
      "name": "IS_Lab1_E17CSE189.ipynb",
      "version": "0.3.2",
      "provenance": [],
      "collapsed_sections": []
    },
    "kernelspec": {
      "name": "python3",
      "display_name": "Python 3"
    }
  },
  "cells": [
    {
      "cell_type": "markdown",
      "metadata": {
        "id": "IyxPGsPpGq_T",
        "colab_type": "text"
      },
      "source": [
        "Information Security Techniques"
      ]
    },
    {
      "cell_type": "markdown",
      "metadata": {
        "id": "8-z0F_VzABR-",
        "colab_type": "text"
      },
      "source": [
        "Transposition Cipher"
      ]
    },
    {
      "cell_type": "markdown",
      "metadata": {
        "id": "3KyXosPzA8xL",
        "colab_type": "text"
      },
      "source": [
        "**Encryption**"
      ]
    },
    {
      "cell_type": "code",
      "metadata": {
        "id": "PVdwjUmxEZk8",
        "colab_type": "code",
        "colab": {
          "base_uri": "https://localhost:8080/",
          "height": 69
        },
        "outputId": "ef342b4a-96ff-41a8-f83a-89b078cc13fd"
      },
      "source": [
        "#Encoding\n",
        "\n",
        "#Get Input\n",
        "user_in = input(\"Enter the plaintext: \")\n",
        "keyword = input(\"Enter the keyword: \")\n",
        "keyLen = len(keyword)\n",
        "\n",
        "#Pad the user input\n",
        "user_in = user_in + ((keyLen-(len(user_in)%keyLen)) * '*')\n",
        "#print(user_in)\n",
        "\n",
        "#break the padded user input\n",
        "#l = list()\n",
        "#for i in range(len(user_in)):\n",
        "#  try:\n",
        "#      l.append(user_in[i]+user_in[i+keyLen])\n",
        "#  except:\n",
        "#    break\n",
        "#print(l)\n",
        "#print(keyword)\n",
        "\n",
        "\n",
        "#break the padded user input\n",
        "l = list()\n",
        "factor = int(len(user_in)/keyLen)\n",
        "for i in range(keyLen):\n",
        "  st = \"\"+user_in[i]\n",
        "  for j in range(1,factor):\n",
        "    try:\n",
        "      st+=user_in[i+(j*keyLen)]\n",
        "    except:\n",
        "      pass\n",
        "    #print(st)\n",
        "  l.append(st)\n",
        "  \n",
        "#print(l)\n",
        "#print(keyword)\n",
        "\n",
        "\n",
        "keyword = list(keyword)\n",
        "for i in range(len(keyword)):\n",
        "    for j in range(len(keyword)-i-1):\n",
        "        if (ord(keyword[j]) > ord(keyword[j+1])):\n",
        "            keyword[j], keyword[j+1] = keyword[j+1], keyword[j]\n",
        "            l[j], l[j+1] = l[j+1], l[j]\n",
        "            \n",
        "\n",
        "#print(keyword)\n",
        "cipherText = \"\"\n",
        "for i in l:\n",
        "    cipherText += i\n",
        "print(\"CipherText: \"+cipherText)"
      ],
      "execution_count": 1,
      "outputs": [
        {
          "output_type": "stream",
          "text": [
            "Enter the plaintext: hey hello how are you doing? I'm fine thank you\n",
            "Enter the keyword: heylo\n",
            "CipherText: eloe gmenuhehrun'nao o yo ft *h aoiIihy*ylw d?  k*\n"
          ],
          "name": "stdout"
        }
      ]
    },
    {
      "cell_type": "markdown",
      "metadata": {
        "id": "65PUmK7GA_MG",
        "colab_type": "text"
      },
      "source": [
        "**Decryption**"
      ]
    },
    {
      "cell_type": "code",
      "metadata": {
        "id": "uNBA0OkPE9xa",
        "colab_type": "code",
        "outputId": "135a89eb-4335-46c1-bf60-80a976fddf3e",
        "colab": {
          "base_uri": "https://localhost:8080/",
          "height": 121
        }
      },
      "source": [
        "##Decode\n",
        "cipherT = input(\"Enter cipher text: \")\n",
        "codeT = input(\"Enter the keyword: \")\n",
        "tLen = int(len(cipherT) / len(codeT))\n",
        "\n",
        "newL = list()\n",
        "for i in range(len(codeT)):\n",
        "  newL.append(cipherT[i*tLen:tLen*(i+1)])\n",
        "\n",
        "print(newL)\n",
        "charL = list(codeT)\n",
        "charL.sort()\n",
        "\n",
        "originalSt = \"\"\n",
        "for i in codeT:\n",
        "  originalSt += newL[charL.index(i)]\n",
        "print(originalSt)\n",
        "\n",
        "print(len(codeT))\n",
        "ss = \"\"\n",
        "for i in range(len(cipherT)):\n",
        "  try:\n",
        "    for j in range(len(codeT)):\n",
        "      ss += originalSt[i+(j*tLen)]\n",
        "  except:\n",
        "    pass\n",
        "  if (len(ss) == len(cipherT)):\n",
        "    break\n",
        "\n",
        "ss = ss.replace('*','')\n",
        "print(\"Plain Text: \"+ss)"
      ],
      "execution_count": 2,
      "outputs": [
        {
          "output_type": "stream",
          "text": [
            "Enter cipher text: eloe gmenuhehrun'nao o yo ft *h aoiIihy*ylw d?  k*\n",
            "Enter the keyword: heylo\n",
            "['eloe gmenu', \"hehrun'nao\", ' o yo ft *', 'h aoiIihy*', 'ylw d?  k*']\n",
            "hehrun'naoeloe gmenuylw d?  k* o yo ft *h aoiIihy*\n",
            "5\n",
            "Plain Text: hey hello how are you doing? I'm fine thank you\n"
          ],
          "name": "stdout"
        }
      ]
    },
    {
      "cell_type": "markdown",
      "metadata": {
        "id": "uzsvjdu7Azvs",
        "colab_type": "text"
      },
      "source": [
        "# Vigenere Cipher"
      ]
    },
    {
      "cell_type": "markdown",
      "metadata": {
        "id": "op-vRy33BLCB",
        "colab_type": "text"
      },
      "source": [
        "**Encryption**"
      ]
    },
    {
      "cell_type": "code",
      "metadata": {
        "id": "9XXsVsfzAyI2",
        "colab_type": "code",
        "colab": {
          "base_uri": "https://localhost:8080/",
          "height": 69
        },
        "outputId": "fa903519-ea2e-4333-e592-56f61f2e323f"
      },
      "source": [
        "msg = input('Enter the msg to be encrypted: ')\n",
        "key = input('Enter the key: ')\n",
        "key_word = ''\n",
        "key = key.upper()\n",
        "msg = msg.upper()\n",
        "q = len(msg)//len(key)\n",
        "r = len(msg)%len(key)\n",
        "\n",
        "for i in range(q):\n",
        "  key_word += key\n",
        "msg = list (msg)\n",
        "key = list(key)\n",
        "\n",
        "for i in range(r):\n",
        "  key_word += key[i]\n",
        "\n",
        "key_word = list(key_word)\n",
        "enc = ''\n",
        "for i in range(len(msg)):\n",
        "  enc += chr(((ord(msg[i])+ord(key_word[i]))%26)+65)\n",
        "\n",
        "print(enc)"
      ],
      "execution_count": 5,
      "outputs": [
        {
          "output_type": "stream",
          "text": [
            "Enter the msg to be encrypted: physics\n",
            "Enter the key: abc\n",
            "PIASJES\n"
          ],
          "name": "stdout"
        }
      ]
    },
    {
      "cell_type": "markdown",
      "metadata": {
        "id": "4LRIcqWbBSxw",
        "colab_type": "text"
      },
      "source": [
        "**Decryption**"
      ]
    },
    {
      "cell_type": "code",
      "metadata": {
        "id": "BKvzbB_NBVLM",
        "colab_type": "code",
        "colab": {
          "base_uri": "https://localhost:8080/",
          "height": 69
        },
        "outputId": "99b1eee5-8277-4a27-f60a-4b9cf16a5cb3"
      },
      "source": [
        "msg = input('Enter the msg to be decrypted: ')\n",
        "key = input('Enter the key: ')\n",
        "key_word = ''\n",
        "key = key.upper()\n",
        "msg = msg.upper()\n",
        "q = len(msg)//len(key)\n",
        "r = len(msg)%len(key)\n",
        "\n",
        "for i in range(q):\n",
        "  key_word += key\n",
        "msg = list (msg)\n",
        "key = list(key)\n",
        "\n",
        "for i in range(r):\n",
        "  key_word += key[i]\n",
        "\n",
        "key_word = list(key_word)\n",
        "enc = ''\n",
        "for i in range(len(msg)):\n",
        "  enc += chr((((ord(msg[i])-ord(key_word[i]))+26)%26)+65)\n",
        "\n",
        "print(enc)"
      ],
      "execution_count": 7,
      "outputs": [
        {
          "output_type": "stream",
          "text": [
            "Enter the msg to be decrypted: PIASJES\n",
            "Enter the key: abc\n",
            "PHYSICS\n"
          ],
          "name": "stdout"
        }
      ]
    },
    {
      "cell_type": "markdown",
      "metadata": {
        "id": "evYf81cwBpQd",
        "colab_type": "text"
      },
      "source": [
        "# ** Fernet Module**"
      ]
    },
    {
      "cell_type": "markdown",
      "metadata": {
        "id": "wTPwOVe8B0Ry",
        "colab_type": "text"
      },
      "source": [
        "**Encryption & Decryption**"
      ]
    },
    {
      "cell_type": "code",
      "metadata": {
        "id": "aj_KsnORBy_v",
        "colab_type": "code",
        "colab": {}
      },
      "source": [
        "password_provided = \"hello123\"\n",
        "password = password_provided.encode()\n",
        "salt = b'2W\\xfeX\\x87\\xebp\\x86\\x10\\xbe\\xdf\\xa9x\\xf6\\xc9\\x83'\n",
        "kdf = PBKDF2HMAC(\n",
        "    algorithm = hashes.SHA256(),\n",
        "    length = 32,\n",
        "    salt = salt,\n",
        "    iterations = 100000,\n",
        "    backend = default_backend()\n",
        ")\n",
        "key = base64.urlsafe_b64encode(kdf.derive(password))"
      ],
      "execution_count": 0,
      "outputs": []
    },
    {
      "cell_type": "code",
      "metadata": {
        "id": "ITH9HOwAEpzP",
        "colab_type": "code",
        "colab": {}
      },
      "source": [
        "msg = \"Message to Encode\"\n",
        "encode = msg.encode()"
      ],
      "execution_count": 0,
      "outputs": []
    },
    {
      "cell_type": "code",
      "metadata": {
        "id": "mNVp4_N9ExOB",
        "colab_type": "code",
        "colab": {}
      },
      "source": [
        "#Encrypt\n",
        "f = Fernet(key)\n",
        "enc = f.encrypt(encode)\n",
        "\n",
        "#Decrypt\n",
        "dec = f.decrypt(enc)\n",
        "ori_msg = dec.decode()"
      ],
      "execution_count": 0,
      "outputs": []
    },
    {
      "cell_type": "markdown",
      "metadata": {
        "id": "RW2mxjsTFCcx",
        "colab_type": "text"
      },
      "source": [
        "**For Files**"
      ]
    },
    {
      "cell_type": "code",
      "metadata": {
        "id": "GxPNi3FDE-v1",
        "colab_type": "code",
        "colab": {}
      },
      "source": [
        "with open('file.txt','rb') as f:\n",
        "  data = f.read()\n",
        "fernet_obj = Fernet(key)\n",
        "encrypted = fernet_obj.encrypt(data)\n",
        "f.close()\n",
        "\n",
        "#encrypt\n",
        "with open('myFile.txt.encrypted','wb') as f:\n",
        "  f.write(encrypted)\n",
        "f.close()\n",
        "\n",
        "#read and write encrypted data to another file\n",
        "with open('myFile.txt.encrypted','rb') as f:\n",
        "  data = f.read()\n",
        "f.close()\n",
        "fernet_obj = Fernet(key)\n",
        "original_msg = fernet_obj.decrypt(data)\n",
        "with open('myFile.txt.decrypted','wb') as f:\n",
        "  f.write(original_msg)\n",
        "f.close() "
      ],
      "execution_count": 0,
      "outputs": []
    },
    {
      "cell_type": "markdown",
      "metadata": {
        "id": "iGiaSmlbFNd6",
        "colab_type": "text"
      },
      "source": [
        "# Multifernet Module (Encrypt & Decrypt)"
      ]
    },
    {
      "cell_type": "code",
      "metadata": {
        "id": "XP4XiqMHFdtX",
        "colab_type": "code",
        "colab": {}
      },
      "source": [
        "password1 = \"hello123\"\n",
        "password2 = \"hello456\"\n",
        "password1 = password1.encode()\n",
        "password2 = password2.encode()\n",
        "salt1 = b'\\xf4\\xab\\x98\\xfce|\\xa2^\\xd2\\xff\\x95;\\x1a\\xadi\\xf7'\n",
        "salt2 = b'\\x9c\\x89_\\xdeC\"\\xcc\\xcfy\\xab\\xbd\\xbb\\xcc;Xm'\n",
        "kdf1 = PBKDF2HMAC(\n",
        "    algorithm = hashes.SHA256(),\n",
        "    length = 32,\n",
        "    salt = salt1,\n",
        "    iterations = 100000,\n",
        "    backend = default_backend()\n",
        "\n",
        ")\n",
        "kdf2 = PBKDF2HMAC(\n",
        "    algorithm = hashes.SHA256(),\n",
        "    length = 32,\n",
        "    salt = salt2,\n",
        "    iterations = 100000,\n",
        "    backend = default_backend()\n",
        ")\n",
        "key1 = base64.urlsafe_b64encode(kdf1.derive(password1))\n",
        "key2 = base64.urlsafe_b64encode(kdf2.derive(password2))\n",
        "key1 = Fernet(key1)\n",
        "key2 = Fernet(key2)"
      ],
      "execution_count": 0,
      "outputs": []
    },
    {
      "cell_type": "code",
      "metadata": {
        "id": "ZEN9NqNWFiRR",
        "colab_type": "code",
        "colab": {}
      },
      "source": [
        "msg1 = \"Message to be encrypted\"\n",
        "encoded_msg = msg1.encode()\n",
        "f1 = MultiFernet([key1, key2])\n",
        "enc1 = f1.encrypt(encoded_msg)\n",
        "print(enc1)\n",
        "dec1 = f1.decrypt(enc1)\n",
        "print(dec1.decode())"
      ],
      "execution_count": 0,
      "outputs": []
    }
  ]
}
